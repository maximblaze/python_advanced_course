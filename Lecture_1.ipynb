{
  "cells": [
    {
      "cell_type": "markdown",
      "metadata": {
        "id": "dCsgr1KTxILm"
      },
      "source": [
        "# Продвинутый Python, лекция 1\n",
        "\n",
        "**Лектор:** Максим Вячеславович Доронькин"
      ]
    },
    {
      "cell_type": "markdown",
      "metadata": {
        "id": "E31zJKC4xvav"
      },
      "source": [
        "Сегодня мы начнем с некоторого must-have для аналитики/machine learning и еще много чего:\n",
        "\n",
        "* numpy\n",
        "\n",
        "* scipy"
      ]
    },
    {
      "cell_type": "markdown",
      "metadata": {
        "id": "vrsgj1qAoj1n"
      },
      "source": [
        "## Numpy"
      ]
    },
    {
      "cell_type": "markdown",
      "metadata": {
        "id": "oHz8RCn1zE6D"
      },
      "source": [
        "### Что это такое?"
      ]
    },
    {
      "cell_type": "markdown",
      "metadata": {
        "id": "1YW10vcgpGJz"
      },
      "source": [
        "Что такое Numpy? Это библиотека, которая позволяет достаточно быстро выполнять различные операции с массивами (многомерными и не очень): перемножение, сложение, преобразования, базовый анализ данных\n",
        "\n",
        "Вся работа в массивами в Numpy гораздо проще и быстрее, чем с обычными списками в Python. Давайте проверим это на простом примере\n",
        "\n",
        "Достаточно часто в линале вам надо было перемножать матрицы, при этом внутри Python нет встроенного перемножения матриц. Без прочих оптимизаций типа алгоритма Штрассена и так далее, давайте попробуем перемножить две матрицы в чистом Python и с помощью numpy и сравним время"
      ]
    },
    {
      "cell_type": "code",
      "source": [
        "import numpy as np"
      ],
      "metadata": {
        "id": "AdsDvyfp_4dO"
      },
      "execution_count": null,
      "outputs": []
    },
    {
      "cell_type": "code",
      "execution_count": null,
      "metadata": {
        "id": "XPKY_-Qjqe7_"
      },
      "outputs": [],
      "source": [
        "a = [[i for i in range(50)] for j in range(50)] #возьмем матрицу a размера 50x50\n",
        "b = [[i for i in range(100)] for j in range(50)] #возьмем матрицу b размера 50x100"
      ]
    },
    {
      "cell_type": "code",
      "execution_count": null,
      "metadata": {
        "id": "RrNkFQYdn0gJ"
      },
      "outputs": [],
      "source": [
        "## Pure Python\n",
        "def matmul_python(a,b):\n",
        "    return [[sum(ele_a*ele_b for ele_a, ele_b in zip(row_a, col_b))\n",
        "             for col_b in list(zip(*b))] for row_a in a]"
      ]
    },
    {
      "cell_type": "code",
      "execution_count": null,
      "metadata": {
        "id": "tFD_lYFkq6e7"
      },
      "outputs": [],
      "source": [
        "#Numpy (сделаем функцию, чтобы было честнее)\n",
        "def matmul_numpy(a, b):\n",
        "    return np.matrix(a) * np.matrix(b)"
      ]
    },
    {
      "cell_type": "code",
      "execution_count": null,
      "metadata": {
        "id": "MzYmQtugrQLZ",
        "colab": {
          "base_uri": "https://localhost:8080/"
        },
        "outputId": "6ccc6322-aecf-4c45-91cf-a91a0f52c69d"
      },
      "outputs": [
        {
          "output_type": "stream",
          "name": "stdout",
          "text": [
            "CPU times: user 25.2 ms, sys: 0 ns, total: 25.2 ms\n",
            "Wall time: 25.3 ms\n"
          ]
        }
      ],
      "source": [
        "%%time\n",
        "\n",
        "k_python = matmul_python(a, b)"
      ]
    },
    {
      "cell_type": "code",
      "execution_count": null,
      "metadata": {
        "id": "TFtI-R-BrWLL",
        "colab": {
          "base_uri": "https://localhost:8080/"
        },
        "outputId": "dc41c58d-0016-498a-a893-fe18f0a29935"
      },
      "outputs": [
        {
          "output_type": "stream",
          "name": "stdout",
          "text": [
            "CPU times: user 485 µs, sys: 899 µs, total: 1.38 ms\n",
            "Wall time: 1.02 ms\n"
          ]
        }
      ],
      "source": [
        "%%time\n",
        "\n",
        "k_numpy = matmul_numpy(a, b)"
      ]
    },
    {
      "cell_type": "code",
      "execution_count": null,
      "metadata": {
        "id": "aXJ85GwssAiI",
        "colab": {
          "base_uri": "https://localhost:8080/"
        },
        "outputId": "41d74bfe-a0aa-4e25-a3ce-b9e960d02019"
      },
      "outputs": [
        {
          "output_type": "execute_result",
          "data": {
            "text/plain": [
              "np.True_"
            ]
          },
          "metadata": {},
          "execution_count": 8
        }
      ],
      "source": [
        "np.all(k_python == k_numpy) #проверяем, что таблицы совпадают"
      ]
    },
    {
      "cell_type": "markdown",
      "metadata": {
        "id": "S-a737S3sbVJ"
      },
      "source": [
        "Удивительно, Numpy почти в 30 раз быстрее, чем Python! За счет чего это получается?\n",
        "\n",
        "Причин несколько:\n",
        "\n",
        "* В первую очередь за счет ограничения со стороны размера: если в Numpy при создании объекта он имеет фиксированный размер (и если его надо поменять, то создастся новый объект и старый будет удален), то в Python нет фиксированного размера (что усложняет работу)\n",
        "\n",
        "* За счет фиксированного размера массивы в NumPy и хранятся в памяти по-другому:\n",
        "\n",
        "Numpy хранит данные друг за другом:\n",
        "\n",
        "![Numpy](https://miro.medium.com/max/1400/1*g1qXNq68rV4gVfY4B7TTBA.png)\n",
        "\n",
        "В свою очередь внутри Python элементы хранятся рандомно (поэтому когда вы обращаетесь к элементу, то вы обращаетесь к ссылке, ссылка идет в нужное место в памяти и находит его). С точки зрения выполнения арифметических операций это сложнее\n",
        "\n",
        "![Python](https://miro.medium.com/max/1400/1*GbfijZi4QKIGwtv4Lqj0QA.png)\n",
        "\n",
        "* А такое хранение позволяет гораздо проще итерироваться по массиву (итерация идет с помощью strides, говорящаяя, по сути, сколько бит надо пройти до следующего значения в строке/столбце)\n",
        "\n",
        "Рассмотрим ситуацию с транспонированием: это же в Python надо брать и прямо переворачивать! А вот в Numpy мы по сути не меняем хранение данных, мы просто делаем другие strides!\n",
        "\n",
        "Попробуйте запустить:\n",
        "\n",
        "```\n",
        "b = np.matrix(b)\n",
        "print(b.strides)\n",
        "print(b.T.strides)\n",
        "```\n",
        "\n",
        "И вы увидите, что поменялись strides (что говорит о том, что данные остались на местах, мы просто изменили то, как по нему ходить)\n",
        "\n",
        "* Код в Numpy - это прекомпилированный код, написанных на C (то есть мы проходим более быстрый путь от компиляции до выполнения)"
      ]
    },
    {
      "cell_type": "markdown",
      "metadata": {
        "id": "W2J0titiyqBy"
      },
      "source": [
        "В целом этого уже достаточно, чтобы использовать Numpy (а теперь представьте, если делать все преобразования с массивами в моделях ML делать с помощью чистого Python, было бы безумие)\n",
        "\n",
        "![](https://i.playground.ru/p/KD9p3ms8GKiSpcpgBcxYww.jpeg)"
      ]
    },
    {
      "cell_type": "code",
      "execution_count": null,
      "metadata": {
        "id": "Gkeo2d0ewG3J",
        "colab": {
          "base_uri": "https://localhost:8080/"
        },
        "outputId": "c81e161e-4233-4ef0-d929-91b21ff5f694"
      },
      "outputs": [
        {
          "output_type": "stream",
          "name": "stdout",
          "text": [
            "(800, 8)\n",
            "(8, 800)\n"
          ]
        }
      ],
      "source": [
        "b = np.matrix(b)\n",
        "print(b.strides)\n",
        "print(b.T.strides)"
      ]
    },
    {
      "cell_type": "markdown",
      "metadata": {
        "id": "HCsxKs-uzIKN"
      },
      "source": [
        "### Как пользоваться?"
      ]
    },
    {
      "cell_type": "markdown",
      "metadata": {
        "id": "ud2Z1UsazMp-"
      },
      "source": [
        "А теперь о том, как пользоваться и что надо знать (будем учить матчасть)\n",
        "\n",
        "Самое полезное - [документация](https://numpy.org/doc/stable/reference/index.html) (к ней в любом случае надо будет обращаться, знать все невозможно)"
      ]
    },
    {
      "cell_type": "markdown",
      "metadata": {
        "id": "COyBZ83jzutH"
      },
      "source": [
        "#### Создание\n",
        "\n"
      ]
    },
    {
      "cell_type": "markdown",
      "metadata": {
        "id": "Nveij5AAzyTQ"
      },
      "source": [
        "Массивы в Numpy называются ndarray (n-dimensional array). Массив можно создать из любого массива в Python, можно также создать из коробки\n",
        "\n",
        "Обратите внимание: чтобы создать нормально ndarray из питоновских списков, нужно иметь в виду:\n",
        "\n",
        "* Все элементы должны быть одного типа данных (иначе вы можете создадите массив, состоящий из питоновских листов, будет грустно, никакого эффекта), не полагайтесь на ум numpy\n",
        "\n",
        "* Если у вас все ок, но при этом есть одни элемента float, другие int, то он может не привести самостоятельно все в формат float. Так что будет славно, если вы укажете тип элементов в ndarray"
      ]
    },
    {
      "cell_type": "code",
      "execution_count": null,
      "metadata": {
        "id": "AjmtZo7r0l9T",
        "colab": {
          "base_uri": "https://localhost:8080/"
        },
        "outputId": "768b688f-84f2-4f6e-de17-3fa9051c5d49"
      },
      "outputs": [
        {
          "output_type": "stream",
          "name": "stdout",
          "text": [
            "[1.  2.  2.7]\n",
            "------------------------------\n",
            "[1 2 2]\n",
            "------------------------------\n",
            "['1' '2' '2.7']\n",
            "------------------------------\n"
          ]
        },
        {
          "output_type": "execute_result",
          "data": {
            "text/plain": [
              "array([['1', '2', 'str'],\n",
              "       ['1', '2', '3']], dtype='<U21')"
            ]
          },
          "metadata": {},
          "execution_count": 10
        }
      ],
      "source": [
        "a = [1, 2, 2.7]\n",
        "\n",
        "print(np.array(a))\n",
        "print('-' * 30)\n",
        "print(np.array(a, int)) #второй аргумент - тип. Если указать, то он попробует перевести все элементы в этот типа\n",
        "print('-' * 30)\n",
        "print(np.array(a, str)) # со строками тоже работает\n",
        "\n",
        "a = [[1, 2, 'str'], [1, 2 ,3]]\n",
        "\n",
        "print('-' * 30)\n",
        "np.array(a) # он приведет, но хотели ли вы этого?.."
      ]
    },
    {
      "cell_type": "markdown",
      "metadata": {
        "id": "GlbQCK0G16Kp"
      },
      "source": [
        "Из коробки можно создать много разных массивов, например:"
      ]
    },
    {
      "cell_type": "markdown",
      "metadata": {
        "id": "Q7_lNv_b2Fx1"
      },
      "source": [
        "* np.zeros - создать массив из нулей (аргументы - tuple размеров, опционально - тип)"
      ]
    },
    {
      "cell_type": "code",
      "execution_count": null,
      "metadata": {
        "id": "1G4R8Wy32Bo7",
        "colab": {
          "base_uri": "https://localhost:8080/"
        },
        "outputId": "f2572230-fd05-4ba4-8ec6-cc17c4276943"
      },
      "outputs": [
        {
          "output_type": "execute_result",
          "data": {
            "text/plain": [
              "array([[0, 0, 0, 0],\n",
              "       [0, 0, 0, 0],\n",
              "       [0, 0, 0, 0]])"
            ]
          },
          "metadata": {},
          "execution_count": 11
        }
      ],
      "source": [
        "np.zeros((3, 4), dtype=int)"
      ]
    },
    {
      "cell_type": "markdown",
      "metadata": {
        "id": "aHrTN3wy2OYW"
      },
      "source": [
        "* np.ones - создать массив из единиц (аргументы - tuple размеров, опционально - тип)"
      ]
    },
    {
      "cell_type": "code",
      "execution_count": null,
      "metadata": {
        "id": "AHtGlcKW2aZX",
        "colab": {
          "base_uri": "https://localhost:8080/"
        },
        "outputId": "406489a5-d42d-411a-ffbf-fba8f655858a"
      },
      "outputs": [
        {
          "output_type": "execute_result",
          "data": {
            "text/plain": [
              "array([[1., 1., 1., 1.],\n",
              "       [1., 1., 1., 1.],\n",
              "       [1., 1., 1., 1.]])"
            ]
          },
          "metadata": {},
          "execution_count": 12
        }
      ],
      "source": [
        "np.ones((3, 4), dtype=float)"
      ]
    },
    {
      "cell_type": "markdown",
      "metadata": {
        "id": "claVuHSc2Sdw"
      },
      "source": [
        "* np.eye - создать массив из нулей и единиц на главной диагонали (аргументы - размеры матрицы, опционально - тип)\n",
        "\n",
        "* np.identity(n) - создать единичную матрицу размера $n \\times n$"
      ]
    },
    {
      "cell_type": "code",
      "execution_count": null,
      "metadata": {
        "id": "2sj8lJAF2dU7",
        "colab": {
          "base_uri": "https://localhost:8080/"
        },
        "outputId": "6d69a004-78de-4cf6-a600-11d42399f466"
      },
      "outputs": [
        {
          "output_type": "execute_result",
          "data": {
            "text/plain": [
              "array([['1', '', ''],\n",
              "       ['', '1', ''],\n",
              "       ['', '', '1'],\n",
              "       ['', '', '']], dtype='<U1')"
            ]
          },
          "metadata": {},
          "execution_count": 13
        }
      ],
      "source": [
        "np.eye(4, 3, dtype=str)"
      ]
    },
    {
      "cell_type": "markdown",
      "metadata": {
        "id": "1Mxc18Kb2_hA"
      },
      "source": [
        "* np.empty - создать массив из рандомных элементов"
      ]
    },
    {
      "cell_type": "code",
      "execution_count": null,
      "metadata": {
        "id": "IbBWyt8L3Ebe",
        "colab": {
          "base_uri": "https://localhost:8080/"
        },
        "outputId": "ad216a5d-a705-4faf-e43d-3b8fe71725ea"
      },
      "outputs": [
        {
          "output_type": "execute_result",
          "data": {
            "text/plain": [
              "array([[3.27352005e-315, 0.00000000e+000, 5.78309767e-317],\n",
              "       [6.58523104e-310, 6.58523104e-310, 6.58523104e-310]])"
            ]
          },
          "metadata": {},
          "execution_count": 14
        }
      ],
      "source": [
        "np.empty((2, 3), float)"
      ]
    },
    {
      "cell_type": "markdown",
      "metadata": {
        "id": "tGx-rdyF3iY4"
      },
      "source": [
        "Функции для созданий одномерных массивов:\n",
        "\n",
        "* np.arange(a, b, step) - аналог range (получаем массив)\n",
        "\n",
        "* np.linspace(a, b, num, enndpoint=True) - получить равномерно $num$ значений от $a$ (включительно) до $b$ (до endpoint - включительно или нет)\n",
        "\n",
        "* np.logspace(a, b, num, endpoint=True, base=10.0) - получить равномерные значения по логарифмической шкале (от $base^a$ до $base^b$)"
      ]
    },
    {
      "cell_type": "code",
      "execution_count": null,
      "metadata": {
        "id": "J7kzEiIz6CtN",
        "colab": {
          "base_uri": "https://localhost:8080/"
        },
        "outputId": "8b693319-b390-42da-ae6f-d76355238ea7"
      },
      "outputs": [
        {
          "output_type": "stream",
          "name": "stdout",
          "text": [
            "[0 4 8]\n",
            "[ 0.  1.  2.  3.  4.  5.  6.  7.  8.  9. 10.]\n",
            "[ 4.          5.65685425  8.         11.3137085  16.        ]\n"
          ]
        }
      ],
      "source": [
        "print(np.arange(0, 10, 4))\n",
        "print(np.linspace(0, 10, 11, endpoint=True))\n",
        "print(np.logspace(2, 4, 5, endpoint=True, base=2))"
      ]
    },
    {
      "cell_type": "markdown",
      "metadata": {
        "id": "gliffqjDeIbh"
      },
      "source": [
        "Теперь про другие способы создать ndarray. Очевидно, что вам часто потребуется загрузить из каких-то других источников (например, вам дали файл и сказали: делай)\n",
        "\n",
        "Варианты:\n",
        "\n",
        "* np.loadtxt(file, delimeter, skiprows=0) - возьми данные из текста, разделяются через delimeter (например, \\t - табами), скипни skiprows строк (если там вам не нужны названия, например)\n",
        "\n",
        "* np.fromstring(s, sep) - загрузи из строки\n",
        "\n",
        "* np.load(file) - загрузи из файла (работает для всяких штук типа .npy, .npz)"
      ]
    },
    {
      "cell_type": "markdown",
      "metadata": {
        "id": "LhG9AH7-beOC"
      },
      "source": [
        "#### Индексация"
      ]
    },
    {
      "cell_type": "markdown",
      "metadata": {
        "id": "tpE5CSDXbgvp"
      },
      "source": [
        "Тут все достаточно просто - обращение как в питоновских списках"
      ]
    },
    {
      "cell_type": "code",
      "execution_count": null,
      "metadata": {
        "id": "tFeE55oybl_N",
        "colab": {
          "base_uri": "https://localhost:8080/"
        },
        "outputId": "7e039811-84e2-4a02-82cf-923b3f3d9e75"
      },
      "outputs": [
        {
          "output_type": "stream",
          "name": "stdout",
          "text": [
            "0 0\n",
            "[[ 0  1  2  3  4  5  6  7  8  9 10 11 12 13]]\n",
            "[19 20]\n",
            "[[ 5  6]\n",
            " [19 20]]\n"
          ]
        }
      ],
      "source": [
        "a = np.arange(28)\n",
        "a = a.reshape(2, -1)\n",
        "print(a[0][0], a[0, 0]) # обращение к элементу, несколько вариантов\n",
        "print(a[:1]) # вывести строку\n",
        "print(a[-1][5:7]) # вывести последнюю строку и часть столбцов\n",
        "print(a[:, 5:7]) # вывести столбцы"
      ]
    },
    {
      "cell_type": "markdown",
      "metadata": {
        "id": "k2QnwLxT6eeU"
      },
      "source": [
        "#### Арифметика"
      ]
    },
    {
      "cell_type": "markdown",
      "metadata": {
        "id": "8e4gNoeO6g1h"
      },
      "source": [
        "Ну почти как везде (операции с числами считаются как операции со скаляром):\n",
        "\n",
        "* +, - - сложение-вычитание (поэлементно)\n",
        "\n",
        "* \\* - умножение (поэлементное)\n",
        "\n",
        "* .T - транспонирование\n",
        "\n",
        "* A.dot(B) - перемножение матриц"
      ]
    },
    {
      "cell_type": "code",
      "execution_count": null,
      "metadata": {
        "id": "22kBGRGD7Pnm",
        "colab": {
          "base_uri": "https://localhost:8080/"
        },
        "outputId": "c5b38093-58ef-4006-aaf6-646a4fa02ab0"
      },
      "outputs": [
        {
          "output_type": "stream",
          "name": "stdout",
          "text": [
            "[[0. 0. 0.]\n",
            " [0. 0. 0.]\n",
            " [0. 0. 0.]]\n",
            "[[0. 0. 0.]\n",
            " [0. 0. 0.]\n",
            " [0. 0. 0.]]\n",
            "[[0. 0. 0.]\n",
            " [0. 0. 0.]\n",
            " [0. 0. 0.]]\n",
            "[[0. 0. 0.]\n",
            " [0. 0. 0.]\n",
            " [0. 0. 0.]]\n",
            "[[0. 0. 0.]\n",
            " [0. 0. 0.]\n",
            " [0. 0. 0.]]\n",
            "[[0. 0. 0.]\n",
            " [0. 0. 0.]\n",
            " [0. 0. 0.]]\n"
          ]
        }
      ],
      "source": [
        "np.random.seed = 1514 ##зададим какой-нибудь seed\n",
        "\n",
        "a = np.empty((3, 3))\n",
        "b = np.empty((3, 3))\n",
        "\n",
        "print(a)\n",
        "print(b)\n",
        "print(a + b)\n",
        "print(a - b)\n",
        "print(a * b)\n",
        "print(a.dot(b))"
      ]
    },
    {
      "cell_type": "markdown",
      "metadata": {
        "id": "dTabSUVE8Sru"
      },
      "source": [
        "Умножений, на самом деле, есть несколько:\n",
        "\n",
        "* a * b - поэлементный (обратите внимание, если a и b типа matrix, то это просто умножение)\n",
        "\n",
        "* a.dot(b) и np.dot(a, b) - умножение матриц (a на b)\n",
        "\n",
        "* np.matmul(a, b) и a @ b - умножение матриц, но тут сложнее :)"
      ]
    },
    {
      "cell_type": "code",
      "execution_count": null,
      "metadata": {
        "id": "opAt4gJtLzyu",
        "colab": {
          "base_uri": "https://localhost:8080/"
        },
        "outputId": "5e96d80a-1a55-4c87-e3da-d000f89c4925"
      },
      "outputs": [
        {
          "output_type": "execute_result",
          "data": {
            "text/plain": [
              "(2, 5, 2, 2)"
            ]
          },
          "metadata": {},
          "execution_count": 24
        }
      ],
      "source": [
        "a = np.arange(2 * 2 * 4 * 5).reshape((2, 5, 2, 4))\n",
        "b = np.arange(2 * 2 * 4 * 5).reshape((2, 5, 4, 2))\n",
        "np.matmul(a,b).shape"
      ]
    },
    {
      "cell_type": "markdown",
      "metadata": {
        "id": "LoGz6xQFMmPw"
      },
      "source": [
        "#### Размерности"
      ]
    },
    {
      "cell_type": "markdown",
      "metadata": {
        "id": "Ial6hDJdWXxO"
      },
      "source": [
        "Что-то можем сделать, кайф. Теперь давайте поговорим про размерности, потому что с этим вы будете сталкиваться чаще всего и вообще не выкупать, а почему у меня ничего не перемножается, какие размерности надо etc (но чаще это будет в pandas)\n",
        "\n",
        "Базово:\n",
        "\n",
        "* shape - посмотреть размерности\n",
        "\n",
        "* reshape - привести к новым размерностям (работает как transpose - меняем strides)\n",
        "\n",
        "* ravel/flatten - приведи к одномерному массиву\n",
        "\n",
        "* newaxis - добавь размерность\n",
        "\n",
        "А теперь в деталях:"
      ]
    },
    {
      "cell_type": "code",
      "source": [
        "a = np.arange(28)\n",
        "a"
      ],
      "metadata": {
        "colab": {
          "base_uri": "https://localhost:8080/"
        },
        "id": "1W0tuiDDbJXU",
        "outputId": "eb135671-1bb5-451f-c1f0-a9958285416d"
      },
      "execution_count": null,
      "outputs": [
        {
          "output_type": "execute_result",
          "data": {
            "text/plain": [
              "array([ 0,  1,  2,  3,  4,  5,  6,  7,  8,  9, 10, 11, 12, 13, 14, 15, 16,\n",
              "       17, 18, 19, 20, 21, 22, 23, 24, 25, 26, 27])"
            ]
          },
          "metadata": {},
          "execution_count": 26
        }
      ]
    },
    {
      "cell_type": "code",
      "execution_count": null,
      "metadata": {
        "id": "FDdoQbAZW-pp",
        "colab": {
          "base_uri": "https://localhost:8080/",
          "height": 207
        },
        "outputId": "3dc3ae6f-69df-4dd5-f4c1-e62991ca25ef"
      },
      "outputs": [
        {
          "output_type": "stream",
          "name": "stdout",
          "text": [
            "(28,)\n",
            "(2, 14)\n"
          ]
        },
        {
          "output_type": "error",
          "ename": "ValueError",
          "evalue": "cannot reshape array of size 28 into shape (3,2,5)",
          "traceback": [
            "\u001b[0;31m---------------------------------------------------------------------------\u001b[0m",
            "\u001b[0;31mValueError\u001b[0m                                Traceback (most recent call last)",
            "\u001b[0;32m/tmp/ipython-input-1970999958.py\u001b[0m in \u001b[0;36m<cell line: 0>\u001b[0;34m()\u001b[0m\n\u001b[1;32m      3\u001b[0m \u001b[0mprint\u001b[0m\u001b[0;34m(\u001b[0m\u001b[0ma\u001b[0m\u001b[0;34m.\u001b[0m\u001b[0mreshape\u001b[0m\u001b[0;34m(\u001b[0m\u001b[0;36m2\u001b[0m\u001b[0;34m,\u001b[0m \u001b[0;34m-\u001b[0m\u001b[0;36m1\u001b[0m\u001b[0;34m)\u001b[0m\u001b[0;34m.\u001b[0m\u001b[0mshape\u001b[0m\u001b[0;34m)\u001b[0m \u001b[0;31m#приведи к размеру 2 x 14 (-1 значит все остальное)\u001b[0m\u001b[0;34m\u001b[0m\u001b[0;34m\u001b[0m\u001b[0m\n\u001b[1;32m      4\u001b[0m \u001b[0;31m# если новая размерность не влезает (то есть у вас 28 элементов, а вы хотите размер (3, 2, 5)), то выдаст ошибку\u001b[0m\u001b[0;34m\u001b[0m\u001b[0;34m\u001b[0m\u001b[0m\n\u001b[0;32m----> 5\u001b[0;31m \u001b[0mprint\u001b[0m\u001b[0;34m(\u001b[0m\u001b[0ma\u001b[0m\u001b[0;34m.\u001b[0m\u001b[0mreshape\u001b[0m\u001b[0;34m(\u001b[0m\u001b[0;36m3\u001b[0m\u001b[0;34m,\u001b[0m \u001b[0;36m2\u001b[0m\u001b[0;34m,\u001b[0m \u001b[0;36m5\u001b[0m\u001b[0;34m)\u001b[0m\u001b[0;34m)\u001b[0m\u001b[0;34m\u001b[0m\u001b[0;34m\u001b[0m\u001b[0m\n\u001b[0m",
            "\u001b[0;31mValueError\u001b[0m: cannot reshape array of size 28 into shape (3,2,5)"
          ]
        }
      ],
      "source": [
        "a = np.arange(28)\n",
        "print(a.shape) # размерность 28, логично\n",
        "print(a.reshape(2, -1).shape) #приведи к размеру 2 x 14 (-1 значит все остальное)\n",
        "# если новая размерность не влезает (то есть у вас 28 элементов, а вы хотите размер (3, 2, 5)), то выдаст ошибку\n",
        "print(a.reshape(3, 2, 5))"
      ]
    },
    {
      "cell_type": "code",
      "source": [
        "a = a.reshape(2, -1)\n",
        "a"
      ],
      "metadata": {
        "colab": {
          "base_uri": "https://localhost:8080/"
        },
        "id": "Vk9k-qX8b6N5",
        "outputId": "b9e07111-1798-42fc-a38f-cd1b5da90556"
      },
      "execution_count": null,
      "outputs": [
        {
          "output_type": "execute_result",
          "data": {
            "text/plain": [
              "array([[ 0,  1,  2,  3,  4,  5,  6,  7,  8,  9, 10, 11, 12, 13],\n",
              "       [14, 15, 16, 17, 18, 19, 20, 21, 22, 23, 24, 25, 26, 27]])"
            ]
          },
          "metadata": {},
          "execution_count": 29
        }
      ]
    },
    {
      "cell_type": "code",
      "execution_count": null,
      "metadata": {
        "id": "hjs_UHrmXePu",
        "colab": {
          "base_uri": "https://localhost:8080/"
        },
        "outputId": "425b68e5-3a4b-40ff-e482-787504a41fee"
      },
      "outputs": [
        {
          "output_type": "stream",
          "name": "stdout",
          "text": [
            "[ 0  1  2  3  4  5  6  7  8  9 10 11 12 13 14 15 16 17 18 19 20 21 22 23\n",
            " 24 25 26 27]\n",
            "[ 0  1  2  3  4  5  6  7  8  9 10 11 12 13 14 15 16 17 18 19 20 21 22 23\n",
            " 24 25 26 27]\n"
          ]
        }
      ],
      "source": [
        "a = a.reshape(2, -1) # сама по себе не меняет размерность\n",
        "print(a.flatten())\n",
        "print(a.ravel())"
      ]
    },
    {
      "cell_type": "markdown",
      "metadata": {
        "id": "ndkKA0JoYPKv"
      },
      "source": [
        "Получаем одно и то же, но функции разные, в чем прикол?\n",
        "\n",
        "* flatten возвращает копию (то есть она независима от исходного массива)\n",
        "\n",
        "* ravel создает только view (то есть ссылку на origin), и если поменять в исходном массиве значение, то и в ravel оно изменится (имейте это ввиду)"
      ]
    },
    {
      "cell_type": "code",
      "execution_count": null,
      "metadata": {
        "id": "74CZgyVKYfbq",
        "colab": {
          "base_uri": "https://localhost:8080/"
        },
        "outputId": "e40ec458-29fe-41e1-c152-2dd98bbca707"
      },
      "outputs": [
        {
          "output_type": "stream",
          "name": "stdout",
          "text": [
            "[ 1  1  2  3  4  5  6  7  8  9 10 11 12 13 14 15 16 17 18 19 20 21 22 23\n",
            " 24 25 26 27]\n"
          ]
        }
      ],
      "source": [
        "a_f = a.flatten()\n",
        "a_r = a.ravel()\n",
        "a[0][0] = 1\n",
        "print(a_r) # изменилось, ух ты!"
      ]
    },
    {
      "cell_type": "code",
      "source": [
        "a_f"
      ],
      "metadata": {
        "colab": {
          "base_uri": "https://localhost:8080/"
        },
        "id": "sFALX5mBcrq0",
        "outputId": "5f5d0f59-9872-47eb-ff50-09cb2a8cd452"
      },
      "execution_count": null,
      "outputs": [
        {
          "output_type": "execute_result",
          "data": {
            "text/plain": [
              "array([ 0,  1,  2,  3,  4,  5,  6,  7,  8,  9, 10, 11, 12, 13, 14, 15, 16,\n",
              "       17, 18, 19, 20, 21, 22, 23, 24, 25, 26, 27])"
            ]
          },
          "metadata": {},
          "execution_count": 31
        }
      ]
    },
    {
      "cell_type": "markdown",
      "metadata": {
        "id": "LAv-Ge1RZRW1"
      },
      "source": [
        "А теперь допустим, что нам нужно не уменьшить число размерностей, а наоборот, их добавить\n",
        "\n",
        "Это можно сделать с помощью newaxis!"
      ]
    },
    {
      "cell_type": "code",
      "execution_count": null,
      "metadata": {
        "id": "mBvM-wVxZggR",
        "colab": {
          "base_uri": "https://localhost:8080/"
        },
        "outputId": "28d4e787-dd03-4300-f38f-cfa43fbc8896"
      },
      "outputs": [
        {
          "output_type": "stream",
          "name": "stdout",
          "text": [
            "(2, 14)\n",
            "(2, 1, 14)\n",
            "(2, 1, 14)\n"
          ]
        }
      ],
      "source": [
        "a = np.arange(28)\n",
        "a = a.reshape(2, -1)\n",
        "print(a.shape)\n",
        "a_new = a[:, np.newaxis, :] #указываем newaxis туда, куда нам нужно, : значит возьми все\n",
        "print(a_new.shape)\n",
        "a = a.reshape(2, 1, -1) #можно и сделать с помощью reshape\n",
        "print(a.shape)"
      ]
    },
    {
      "cell_type": "markdown",
      "metadata": {
        "id": "xjkkSoFoMpEa"
      },
      "source": [
        "#### Соединения и добавления"
      ]
    },
    {
      "cell_type": "markdown",
      "metadata": {
        "id": "QvVjkKE_M2AS"
      },
      "source": [
        "Представим новую ситуацию: у вас есть два набора данных (допустим, за прошлую неделю и за текущую) и вы хотите их соединить их в единый набор данных\n",
        "\n",
        "Или же у вас одна половина данных лежит в одной, а другая в другой (скажем, есть карточка товара, в одном месте лежит вся информация про id, название etc, а в другом всякие web-счетчики: сколько посмотрели-покликали и так далее)\n",
        "\n",
        "Тогда на помощь приходят:\n",
        "\n",
        "* np.concatenate((arr1, arr2), axis) - соедини две таблицы по выбранному axis (по дефолту 0)\n",
        "\n",
        "* np.vstack((arr1, arr2)) - соедини две таблицы строчно (то есть друг под другом).То же самое, что и np.concatenate((arr1, arr2), axis=0)\n",
        "\n",
        "* np.hstack((arr1, arr2)) - соедини две таблицы по колонке (то есть arr1-arr2).То же самое, что и np.concatenate((arr1, arr2), axis=1)\n",
        "\n",
        "**Как и в перемножении матриц, размерности должны сходиться!**"
      ]
    },
    {
      "cell_type": "code",
      "execution_count": null,
      "metadata": {
        "id": "SEdhzLoJjyQS",
        "colab": {
          "base_uri": "https://localhost:8080/"
        },
        "outputId": "bd888ca6-9ca1-4b9d-d433-6b67e9737d63"
      },
      "outputs": [
        {
          "output_type": "stream",
          "name": "stdout",
          "text": [
            "[[1 2]\n",
            " [3 4]\n",
            " [5 6]\n",
            " [7 8]]\n",
            "[[1 2 5 6]\n",
            " [3 4 7 8]]\n",
            "[[1 2]\n",
            " [3 4]\n",
            " [5 6]\n",
            " [7 8]]\n",
            "[[1 2 5 6]\n",
            " [3 4 7 8]]\n"
          ]
        }
      ],
      "source": [
        "a = np.array([[1, 2], [3, 4]])\n",
        "b = np.array([[5, 6], [7, 8]])\n",
        "\n",
        "print(np.vstack((a, b)))\n",
        "print(np.hstack((a, b)))\n",
        "print(np.concatenate((a, b), axis=0))\n",
        "print(np.concatenate((a, b), axis=1))"
      ]
    },
    {
      "cell_type": "markdown",
      "metadata": {
        "id": "QHqYgNPSlWVk"
      },
      "source": [
        "А если хотим добавить?\n",
        "\n",
        "* np.append(arr_1, arr_2, ..., arr_n, axis) - сделай append (если отдельно задаете axis, то размерности должны быть одинаковыми)\n",
        "\n",
        "* np.insert(arr, slice, value, axis) - добавь в arr в slice значение value по выбранному axis\n",
        "\n",
        "* np.resize(arr, (sizes)) - по сути reshape, но если получившийся итог получается больше, то заполняет остальное копией a (аккуратнее с этим, лучше не делать с матрицами)\n",
        "\n",
        "* arr.resize((sizes)) - reshape, если больше, то заполнит нулями (аккуратно с этим)"
      ]
    },
    {
      "cell_type": "code",
      "execution_count": null,
      "metadata": {
        "id": "64_Coh7hmQ7r",
        "colab": {
          "base_uri": "https://localhost:8080/"
        },
        "outputId": "5eed00e5-ca60-4e51-df2e-3b7b359a4df2"
      },
      "outputs": [
        {
          "output_type": "stream",
          "name": "stdout",
          "text": [
            "[1 2 3 4 5 6 7 8]\n",
            "------------------------------\n",
            "[[1 2]\n",
            " [5 6]\n",
            " [7 8]\n",
            " [3 4]]\n",
            "------------------------------\n",
            "[[1 2]\n",
            " [3 4]\n",
            " [1 2]\n",
            " [3 4]\n",
            " [1 2]]\n",
            "------------------------------\n",
            "[[1 2 3 4 0 0 0 0 0 0]]\n",
            "------------------------------\n",
            "[1 2 3 4 1 2]\n"
          ]
        }
      ],
      "source": [
        "a = np.array([[1, 2], [3, 4]])\n",
        "b = np.array([[5, 6], [7, 8]])\n",
        "\n",
        "print(np.append(a, b))\n",
        "print('-' * 30)\n",
        "print(np.insert(a, 1, b, axis = 0))\n",
        "print('-' * 30)\n",
        "print(np.resize(a, (5, 2)))\n",
        "print('-' * 30)\n",
        "a.resize((1, 10), refcheck=False) ## refcheck - не проверяй на наличие ссылок (иначе упадет)\n",
        "print(a)\n",
        "print('-' * 30)\n",
        "a = np.array([[1, 2], [3, 4]])\n",
        "print(np.append(a, [1, 2]))"
      ]
    },
    {
      "cell_type": "markdown",
      "metadata": {
        "id": "fROW7gayMrZ6"
      },
      "source": [
        "#### Сравнения"
      ]
    },
    {
      "cell_type": "markdown",
      "metadata": {
        "id": "TtpFfYGyoKuB"
      },
      "source": [
        "Все, помучили наш массив как только можем, давайте теперь его как-то исследовать\n",
        "\n",
        "Допустим, теперь хотим что-то отфильтровать или посмотреть какие-то конкретные значения"
      ]
    },
    {
      "cell_type": "code",
      "execution_count": null,
      "metadata": {
        "id": "-u2Ef8yOovqe",
        "colab": {
          "base_uri": "https://localhost:8080/"
        },
        "outputId": "a8c0421a-367a-4b26-f215-56c26c5be23a"
      },
      "outputs": [
        {
          "output_type": "stream",
          "name": "stdout",
          "text": [
            "[ 0  1  2  3  4  5  6  7  8 16 17 18 19 20 21 22 23 24 25 26]\n",
            "------------------------------\n",
            "[ 0  1  2  3  4  5  6  7  8 16 17 18 19 20 21 22 23 24 25 26]\n",
            "[ True  True  True  True  True  True  True  True  True False False False\n",
            " False False False False  True  True  True  True  True  True  True  True\n",
            "  True  True  True False False False]\n"
          ]
        }
      ],
      "source": [
        "a = np.arange(30)\n",
        "print(a[(a > 15) & (a < 27) | (a < 9)]) # как добавить несколько условий сразу через & и | (и/или)\n",
        "cond = (a > 15) & (a < 27) | (a < 9) # условия можно отдельно записывать, даст массив True-False\n",
        "print('-' * 30)\n",
        "print(a[cond])\n",
        "print(cond)"
      ]
    },
    {
      "cell_type": "code",
      "source": [
        "a = np.arange(30).reshape(2, -5)\n",
        "a"
      ],
      "metadata": {
        "colab": {
          "base_uri": "https://localhost:8080/"
        },
        "id": "CqTLJLpFiF2N",
        "outputId": "5faba60e-d2ca-44f5-caed-a2d024d9e3aa"
      },
      "execution_count": null,
      "outputs": [
        {
          "output_type": "execute_result",
          "data": {
            "text/plain": [
              "array([[ 0,  1,  2,  3,  4,  5,  6,  7,  8,  9, 10, 11, 12, 13, 14],\n",
              "       [15, 16, 17, 18, 19, 20, 21, 22, 23, 24, 25, 26, 27, 28, 29]])"
            ]
          },
          "metadata": {},
          "execution_count": 48
        }
      ]
    },
    {
      "cell_type": "code",
      "execution_count": null,
      "metadata": {
        "id": "Mdr7c8Ccpwe1"
      },
      "outputs": [],
      "source": [
        "a = np.arange(30).reshape(5, -1)\n",
        "b = (np.arange(30) - 1).reshape(5, -1)\n",
        "b[0][0] = 15\n",
        "a > b #для таких сравнений должны быть одинаковые размерности"
      ]
    },
    {
      "cell_type": "code",
      "execution_count": null,
      "metadata": {
        "id": "0kkaCxnpqIgM"
      },
      "outputs": [],
      "source": [
        "print((a > b).all()) # проверить, все ли значения True\n",
        "print((a > b).any()) # првоерить, есть ли хотя бы одно True\n",
        "print(a[a > b]) # выведет одномерный массив\n",
        "print('-' * 30)\n",
        "print(a[a[:, 0] > [1, 1, 1, 1, 1]]) # можно сравнивать и вот так"
      ]
    },
    {
      "cell_type": "markdown",
      "metadata": {
        "id": "dEMMpVy2M5bj"
      },
      "source": [
        "Теперь хотим применить условие и что-то сделать со значениями (обрезать или поменять)\n",
        "\n",
        "Можно по старинке:"
      ]
    },
    {
      "cell_type": "code",
      "execution_count": null,
      "metadata": {
        "id": "0lK6jGe7q_ym"
      },
      "outputs": [],
      "source": [
        "a = np.arange(30).reshape(5, -1)\n",
        "a[a > 0] = a[a > 0] * 5\n",
        "a"
      ]
    },
    {
      "cell_type": "markdown",
      "metadata": {
        "id": "GWqJNq7LrGGK"
      },
      "source": [
        "Но можно и лучше!\n",
        "\n",
        "* np.where(cond, act_1, act_2) - измени значения в зависимости от условия (если True, то сделай одно, если False, то другое)\n",
        "\n",
        "* np.clip(arr, a_min, a_max) - ограничить значения (все, что меньше a_min, станет a_min, все, что больше a_max, станет a_max)\n",
        "\n",
        "Последнее нужно, например, для обработки картинок (допустим, вам пришли плохие данные, где есть значения не в пределах от 0 до 256)"
      ]
    },
    {
      "cell_type": "code",
      "execution_count": null,
      "metadata": {
        "id": "4f8TiFovrjUa"
      },
      "outputs": [],
      "source": [
        "a = np.arange(30).reshape(5, -1)\n",
        "a = np.where(a > 0, a * 5, a)\n",
        "print(a)\n",
        "print('-' * 30)\n",
        "a = np.clip(a, 10, 100)\n",
        "print(a)"
      ]
    },
    {
      "cell_type": "markdown",
      "metadata": {
        "id": "G_Ui0dquMvAK"
      },
      "source": [
        "#### Прочие полезные вещи"
      ]
    },
    {
      "cell_type": "markdown",
      "metadata": {
        "id": "fg8jl95GM8yr"
      },
      "source": [
        "Все, теперь к полному анализу наших данных!\n",
        "\n",
        "![](https://i.gifer.com/embedded/download/3nHQ.gif)"
      ]
    },
    {
      "cell_type": "markdown",
      "metadata": {
        "id": "TRwulevltROp"
      },
      "source": [
        "Что умеем?\n",
        "\n",
        "*   sum, mean, std, min, max, prod - классика (сумма, среднее, стандратное отклонение, минимум/максимум, произведение)\n",
        "\n",
        "*   argmin, argmax - найди индекс максимума/минимума (знаете же, что в Python так нельзя, а вот тут пожалуйста)\n",
        "\n",
        "* nonzero - вывести индексы ненулевых значений\n",
        "\n",
        "* sort, unique - сортировка, уникальные элементы\n",
        "\n",
        "* diag, trace - вывести диагональ, след матрицы (работает только для размерности < 3)\n",
        "\n",
        "* cumsum, cumprod - кумулятивы сумм-произведений\n",
        "\n",
        "* isnan, isinf, isposinf, isneginf - поиск \"плохих\" значений\n",
        "\n",
        "* nan_to_num(x, nan, posinf) - если где-то видим nan или inf, то можем его поменять на значение в nan или posinf\n",
        "\n"
      ]
    },
    {
      "cell_type": "code",
      "execution_count": null,
      "metadata": {
        "id": "PgeCAdAMu8zB",
        "colab": {
          "base_uri": "https://localhost:8080/"
        },
        "outputId": "ad102465-d4e8-48cc-e603-a39a76c330a0"
      },
      "outputs": [
        {
          "output_type": "stream",
          "name": "stdout",
          "text": [
            "[[1 1 1]\n",
            " [1 2 0]]\n",
            "------------------------------\n",
            "[[1 0 0]\n",
            " [1 2 2]]\n",
            "------------------------------\n",
            "[[1 2 2]]\n",
            "------------------------------\n",
            "[[1 0 0]]\n",
            "------------------------------\n"
          ]
        }
      ],
      "source": [
        "a = np.array([[[1, 2, 3], [4, 5 ,6], [7, 8, 9]], [[-np.inf, 2, 3], [4, np.nan ,6], [np.nan, 8, np.inf]]])\n",
        "print(np.argwhere(np.isnan(a)))\n",
        "print('-' * 30)\n",
        "print(np.argwhere(np.isinf(a)))\n",
        "print('-' * 30)\n",
        "print(np.argwhere(np.isposinf(a)))\n",
        "print('-' * 30)\n",
        "print(np.argwhere(np.isneginf(a)))\n",
        "print('-' * 30)"
      ]
    },
    {
      "cell_type": "code",
      "execution_count": null,
      "metadata": {
        "id": "obHK4ezmv40v",
        "colab": {
          "base_uri": "https://localhost:8080/"
        },
        "outputId": "4f335742-4523-462d-cfd0-bf8378d1974f"
      },
      "outputs": [
        {
          "output_type": "stream",
          "name": "stdout",
          "text": [
            "68.0\n",
            "------------------------------\n",
            "[[-998.    4.    6.]\n",
            " [   8.    5.   12.]\n",
            " [   7.   16. 1008.]]\n",
            "------------------------------\n",
            "333.01310544040416\n"
          ]
        }
      ],
      "source": [
        "np.nan_to_num(a, copy=False, nan=0, posinf=999, neginf=-999)\n",
        "#очень часто у функций есть аргумент copy, то есть создавать новую копию или менять в исходном массиве\n",
        "print(a.sum()) # полная сумма\n",
        "print('-' * 30)\n",
        "print(a.sum(axis=0)) # сумма по оси\n",
        "print('-' * 30)\n",
        "print(a.std())"
      ]
    },
    {
      "cell_type": "code",
      "execution_count": null,
      "metadata": {
        "id": "I7UIfrfFwyGX",
        "colab": {
          "base_uri": "https://localhost:8080/"
        },
        "outputId": "caf56347-9339-4eed-cc6a-1cf94b39e83f"
      },
      "outputs": [
        {
          "output_type": "stream",
          "name": "stdout",
          "text": [
            "[   1.    3.    6.   10.   15.   21.   28.   36.   45. -954. -952. -949.\n",
            " -945. -945. -939. -939. -931.   68.]\n",
            "------------------------------\n",
            "[ 1.00000000e+00  2.00000000e+00  6.00000000e+00  2.40000000e+01\n",
            "  1.20000000e+02  7.20000000e+02  5.04000000e+03  4.03200000e+04\n",
            "  3.62880000e+05 -3.62517120e+08 -7.25034240e+08 -2.17510272e+09\n",
            " -8.70041088e+09 -0.00000000e+00 -0.00000000e+00 -0.00000000e+00\n",
            " -0.00000000e+00 -0.00000000e+00]\n"
          ]
        }
      ],
      "source": [
        "print(np.cumsum(a))\n",
        "print('-' * 30)\n",
        "print(np.cumprod(a)) #"
      ]
    },
    {
      "cell_type": "markdown",
      "metadata": {
        "id": "h1pDMA1PNCgo"
      },
      "source": [
        "#### Линейная алгебра (np.linalg)"
      ]
    },
    {
      "cell_type": "markdown",
      "metadata": {
        "id": "nJrwb_pIiIZK"
      },
      "source": [
        "Самый сильный инструмент внутри numpy - это модуль numpy.linalg, который позволяет применить кучу методов из линейной алгебры (например, сделать за вас тот же самый SVD)\n",
        "\n",
        "Из основного:\n",
        "\n",
        "* numpy.linalg.multi_dot - перемножение нескольких матриц сразу (причем выбирается самый быстрый способ перемножения)\n",
        "\n",
        "* np.vdot - скалярное произведение (не нужно делать .T  \n",
        "как минимум)\n",
        "\n",
        "* numpy.linalg.matrix_power - возвести матрицу в нужную степень\n",
        "\n",
        "* numpy.linalg.norm - матричная норма\n",
        "\n",
        "* numpy.linalg.det - определитель матрицы\n",
        "\n",
        "* numpy.linalg.inv - обратная матрица (если нет, то будет считать через pinv - псевдообратная матрица)\n",
        "\n",
        "* numpy.linalg.solve(a, b) - решить систему $ax = b$\n",
        "\n",
        "Разложения:\n",
        "\n",
        "* choletsky, qr, SVD - разложение Холецкого, QR-декомпозиция, SVD-разложение (можно сделать усеченным)\n",
        "\n",
        "* eig, eigvals - собственные вектор**Ы** и собственные значения\n"
      ]
    },
    {
      "cell_type": "code",
      "execution_count": null,
      "metadata": {
        "id": "XTapKzFoAPf_"
      },
      "outputs": [],
      "source": [
        "A = np.matrix([[1, 2, 3], [4, 5, 11], [7, 8, 10]])\n",
        "print(\"Определитель матрицы:\", lin.det(A))\n",
        "print('-' * 30)\n",
        "print(\"Обратная матрица:\", lin.inv(A))\n",
        "print('-' * 30)\n",
        "print(\"Третья степень матрицы:\", lin.matrix_power(A, 3))\n",
        "print('-' * 30)\n",
        "b = np.array([1, 2, 3])\n",
        "print(\"Решаем систему:\", lin.solve(A, b))\n",
        "print('-' * 30)\n",
        "c = np.array([1, 2, 3])\n",
        "print(\"Скалярное произведение:\", np.vdot(c, b))\n",
        "print('-' * 30)"
      ]
    },
    {
      "cell_type": "code",
      "execution_count": null,
      "metadata": {
        "id": "X9LuJ1XxBlO9"
      },
      "outputs": [],
      "source": [
        "U, s, Vh = lin.svd(A)\n",
        "print(U)\n",
        "print('-' * 30)\n",
        "print(s)\n",
        "print('-' * 30)\n",
        "print(Vh)"
      ]
    },
    {
      "cell_type": "code",
      "execution_count": null,
      "metadata": {
        "id": "Ps9277glB-WO"
      },
      "outputs": [],
      "source": [
        "lin.eig(A)"
      ]
    },
    {
      "cell_type": "markdown",
      "metadata": {
        "id": "TWqAtKktyXYQ"
      },
      "source": [
        "#### Несколько полезных вещей"
      ]
    },
    {
      "cell_type": "markdown",
      "metadata": {
        "id": "M0VVwAKhyZ_C"
      },
      "source": [
        "* np.meshgrid(x_{i}, indexing) - вернуть координатную сетку из координат $x_i$"
      ]
    },
    {
      "cell_type": "code",
      "execution_count": null,
      "metadata": {
        "id": "9Aou3YYwy5Jk",
        "colab": {
          "base_uri": "https://localhost:8080/",
          "height": 430
        },
        "outputId": "ceaffe39-1aab-4bd6-c282-d8f335d2e722"
      },
      "outputs": [
        {
          "output_type": "display_data",
          "data": {
            "text/plain": [
              "<Figure size 640x480 with 1 Axes>"
            ],
            "image/png": "[encoded data removed]"
          },
          "metadata": {}
        }
      ],
      "source": [
        "import matplotlib.pyplot as plt\n",
        "import numpy as np\n",
        "\n",
        "nx, ny = (3, 2)\n",
        "x = np.linspace(0, 1, nx)\n",
        "y = np.linspace(0, 1, ny)\n",
        "xv, yv = np.meshgrid(x, y)\n",
        "\n",
        "plt.plot(xv, yv, marker='o', color='b', linestyle='none')\n",
        "plt.show()"
      ]
    },
    {
      "cell_type": "code",
      "execution_count": null,
      "metadata": {
        "id": "YrUEfmdGzDTz",
        "colab": {
          "base_uri": "https://localhost:8080/"
        },
        "outputId": "5d24d719-46c6-466b-ca01-4ca54156168e"
      },
      "outputs": [
        {
          "output_type": "stream",
          "name": "stdout",
          "text": [
            "[[0.  0.5 1. ]\n",
            " [0.  0.5 1. ]] \n",
            " [[0. 0. 0.]\n",
            " [1. 1. 1.]]\n"
          ]
        }
      ],
      "source": [
        "print(xv, '\\n', yv)"
      ]
    },
    {
      "cell_type": "markdown",
      "metadata": {
        "id": "W8IzWg5IzJdH"
      },
      "source": [
        "По существу - каждая точка имеет координаты, которые раскиданы в разных матрицах (по необходимой оси)"
      ]
    },
    {
      "cell_type": "markdown",
      "metadata": {
        "id": "WvHEHTUTpATC"
      },
      "source": [
        "## Scipy"
      ]
    },
    {
      "cell_type": "markdown",
      "metadata": {
        "id": "an1pq95dNO7P"
      },
      "source": [
        "Scipy - это несколько специфичная библиотека для различных более математических вещей типа преобразований Фурье, интерполяций, оптимизаций etc. Вот там можно реально закопаться ([документация](https://docs.scipy.org/doc/scipy/reference/index.html#) в помощь)\n",
        "\n",
        "Но сегодня мы рассмотрим всего 2 библиотеки, которые вам могут встретиться чаще, чем обычно:\n",
        "\n",
        "* stats - распределения, статистики, корреляции, тесты и так далее\n",
        "\n",
        "* sparse - модуль для разреженных данных"
      ]
    },
    {
      "cell_type": "markdown",
      "metadata": {
        "id": "5sVsSSNEFczK"
      },
      "source": [
        "### Stats"
      ]
    },
    {
      "cell_type": "markdown",
      "metadata": {
        "id": "EA_jCXEHR7h7"
      },
      "source": [
        "В курсе по теории вероятности вы познакомитесь с огромным количеством разных распределений (Бернулли, Пуассона, нормальное, Коши, равномерное etc)\n",
        "\n",
        "Было бы круто, если бы была библиотека, которая может сэмлировать из таких распределений... 🤔🤔🤔\n",
        "\n",
        "А, подождите, для этого есть scipy.stats"
      ]
    },
    {
      "cell_type": "code",
      "source": [
        "import scipy.stats as st\n",
        "import matplotlib.pyplot as plt"
      ],
      "metadata": {
        "id": "HO6SvuR4VaU-"
      },
      "execution_count": null,
      "outputs": []
    },
    {
      "cell_type": "code",
      "execution_count": null,
      "metadata": {
        "id": "VhF6LX7upCEC",
        "colab": {
          "base_uri": "https://localhost:8080/",
          "height": 430
        },
        "outputId": "897f6a54-789b-48e6-c6fc-4e9afa252b21"
      },
      "outputs": [
        {
          "output_type": "display_data",
          "data": {
            "text/plain": [
              "<Figure size 640x480 with 1 Axes>"
            ],
            "image/png": "[encoded data removed]"
          },
          "metadata": {}
        }
      ],
      "source": [
        "n = st.norm(10, 10) # возьмем нормальное распределение со средним 5 и gamma = 1\n",
        "plt.hist(n.rvs(10000), bins=30) #.rvs - сгенерировать сэмпл\n",
        "plt.show() #ну, очень похоже на нормальное распределение"
      ]
    },
    {
      "cell_type": "code",
      "execution_count": null,
      "metadata": {
        "id": "YOSHikXEUgXx",
        "colab": {
          "base_uri": "https://localhost:8080/",
          "height": 430
        },
        "outputId": "79fe2bca-29d0-4aac-ba8e-00f9bc642eac"
      },
      "outputs": [
        {
          "output_type": "display_data",
          "data": {
            "text/plain": [
              "<Figure size 640x480 with 1 Axes>"
            ],
            "image/png": "[encoded data removed]"
          },
          "metadata": {}
        }
      ],
      "source": [
        "import numpy as np\n",
        "x = np.linspace(0, 10, 1000)\n",
        "plt.plot(x, n.pdf(x)) #pdf - plot distribution function\n",
        "plt.show()"
      ]
    },
    {
      "cell_type": "markdown",
      "metadata": {
        "id": "aEUDgMqCT3vc"
      },
      "source": [
        "Основное:\n",
        "\n",
        "* .rvs(size) - сгенерировать выборку нужного размера\n",
        "\n",
        "* .pdf(val) - значение плотности вероятности в данной точке\n",
        "\n",
        "* .ppf(perc) - квантили\n",
        "\n",
        "* .mean, .std, .var - среднее, стандратное отклонение, дисперсия\n"
      ]
    },
    {
      "cell_type": "code",
      "execution_count": null,
      "metadata": {
        "id": "JxELWf8BWEfl",
        "colab": {
          "base_uri": "https://localhost:8080/"
        },
        "outputId": "dec8e6f7-f805-4ed7-b93f-2fb98c2d085b"
      },
      "outputs": [
        {
          "output_type": "execute_result",
          "data": {
            "text/plain": [
              "np.int64(294)"
            ]
          },
          "metadata": {},
          "execution_count": 16
        }
      ],
      "source": [
        "n = st.bernoulli(0.3) #распределение Бернулли с p = 0.3 (p - вероятность выпадения 1)\n",
        "n.rvs(1000).sum() #почти 30% выпадения 1"
      ]
    },
    {
      "cell_type": "markdown",
      "metadata": {
        "id": "q5wYB21KW1XX"
      },
      "source": [
        "На самом деле, сейчас это может быть не так важно и нужно, но как только вы перейдете к матстату и полному терверу, то сразу понятно станет, как же это удобно (мы с вами потренируемся с этим на семинаре на примере одного датасета)"
      ]
    },
    {
      "cell_type": "code",
      "source": [
        "[0,0,0,0,0,1]\n",
        "[6, 6]"
      ],
      "metadata": {
        "id": "qoEmlgfIWfwT"
      },
      "execution_count": null,
      "outputs": []
    },
    {
      "cell_type": "markdown",
      "metadata": {
        "id": "eMsTcc_-Fe-F"
      },
      "source": [
        "### Sparse"
      ]
    },
    {
      "cell_type": "markdown",
      "metadata": {
        "id": "xm5wkYMTPYSR"
      },
      "source": [
        "Так или иначе, у вас может получиться разреженная матрица (то есть это матрица, где очень много нулей и лишь малое число ненулей). Хранить такую матрицу как она есть - это очень грустно с точки зрения памяти (мы храним кучу безполезной информации)\n",
        "\n",
        "Для этого и придумали sparse модуль. В чем особенность? Давайте хранить вместо самой матрицы ее размеры и места, где находятся ненулевые значения, а потом при взаимодействии это обрабатывать отдельно\n",
        "\n",
        "Модуль sparse очень хорошо работает с Numpy, так что в этом смысле никаких проблем нет, самое главное - если где-то получается что-то типа sparse матрицы, то в этом поможет именно Scipy"
      ]
    },
    {
      "cell_type": "code",
      "execution_count": null,
      "metadata": {
        "id": "hPSBvTf8FgiZ"
      },
      "outputs": [],
      "source": [
        "import scipy.sparse as sp\n",
        "A = sp.lil_matrix((1000, 1000)) #создаем матрицу\n",
        "A[0, :100] = np.random.rand(100) # заполним рандомными значениями\n",
        "A[1, 100:200] = A[0, :100]\n",
        "A.setdiag(np.random.rand(1000)) #заполним диагонали, чтобы система была решаемой"
      ]
    },
    {
      "cell_type": "code",
      "execution_count": null,
      "metadata": {
        "id": "8Jg1hX8oQopR",
        "colab": {
          "base_uri": "https://localhost:8080/"
        },
        "outputId": "f8083af5-46d2-4088-f33a-2aba766a7dc6"
      },
      "outputs": [
        {
          "output_type": "execute_result",
          "data": {
            "text/plain": [
              "array([-2.06778911e+03, -1.62810356e+02,  6.39823572e-01,  1.10865073e+01,\n",
              "        6.17556464e-01,  1.55305649e+00,  8.53085954e-01,  2.66043568e+00,\n",
              "        4.43830286e-01,  1.33235621e+00,  1.50824683e-01,  1.02627223e+00,\n",
              "        3.36354370e-01,  4.08305351e+00,  1.25785812e+00,  2.92993436e+00,\n",
              "        1.31561200e+01,  1.65591096e-01,  8.77084921e-01,  5.84865928e+00,\n",
              "        1.30186294e-01,  4.23089338e+00,  6.81328391e+00,  6.13718284e-01,\n",
              "        1.03792252e+00,  1.60533627e+00,  1.06865985e+01,  6.13590991e-01,\n",
              "        2.00619220e-01,  9.59157344e-01,  7.44200016e-02,  1.67431275e-01,\n",
              "        2.66502554e+00,  5.53738534e-01,  7.83403874e-01,  4.79160389e+00,\n",
              "        3.49641245e+00,  6.23343859e+00,  1.65501002e-01,  5.10299516e-01,\n",
              "        1.40365443e+00,  1.49656626e+00,  1.01493840e+00,  7.26063065e-01,\n",
              "        5.19966926e-01,  3.58234419e-01,  6.00503917e-01,  1.06724842e+01,\n",
              "        2.32336586e-01,  1.38646447e+00,  9.82979499e-01,  2.34271059e-02,\n",
              "        3.59054821e+00,  5.13724813e-01,  5.04784645e-02,  2.59996930e+00,\n",
              "        3.88179017e-02,  7.02339592e-01,  2.45832130e+00,  5.81173999e-02,\n",
              "        7.48682048e-01,  1.68229736e+00,  9.51653856e-01,  8.01267672e-01,\n",
              "        7.94908484e-01,  5.25629209e-01,  2.65774230e-01,  9.19026584e+00,\n",
              "        1.75740110e+00,  1.70624246e+00,  8.29473271e+02,  1.07860330e+00,\n",
              "        1.48991889e+00,  7.14343745e-01,  1.03416692e+00,  4.83175415e-01,\n",
              "        2.65026359e+00,  2.25443405e-01,  9.66801359e-01,  4.05624359e-02,\n",
              "        2.02920685e+00,  9.29510138e-02,  5.58173217e-01,  7.29344029e+00,\n",
              "        1.72070373e-01,  2.25624342e+00,  2.30897545e+00,  1.05951620e+00,\n",
              "        1.00189211e+00,  7.19748437e-01,  3.45850266e-01,  4.30182795e-01,\n",
              "        1.15357105e+00,  9.50375013e-01,  6.50455158e-01,  6.47731093e-01,\n",
              "        2.85784858e-01,  7.58658981e+00,  1.97923929e+01,  5.92556492e-01,\n",
              "        8.00382997e-01,  2.56752018e-01,  2.66638072e+00,  1.63791722e+00,\n",
              "        4.72163039e-01,  1.08408791e+00,  2.54236381e-01,  1.86057091e+00,\n",
              "        9.96146538e-01,  1.62808360e+00,  7.95510554e-01,  2.57709098e+00,\n",
              "        3.58449345e-01,  9.12366229e-01,  1.17306315e+01,  3.40565773e-01,\n",
              "        8.55845749e-01,  8.38815211e-01,  1.33304990e+00,  6.14861767e-03,\n",
              "        1.44610030e+01,  1.02158255e+00,  1.37992511e-01,  2.78005448e-01,\n",
              "        5.55310306e-01,  1.27849877e+00,  1.06851423e+00,  7.77627930e-02,\n",
              "        8.21631582e-01,  4.60247127e+00,  5.39365271e-01,  1.81240090e+00,\n",
              "        1.61682397e+00,  4.43672520e-01,  4.79406537e-01,  4.45543914e+00,\n",
              "        5.29645863e+00,  2.03084876e-01,  9.14890925e-01,  7.94596203e-01,\n",
              "        2.14080296e+00,  2.34056405e+00,  4.68355595e+00,  9.54643309e-01,\n",
              "        1.35329719e+00,  1.02803689e+00,  7.98420841e-02,  1.36722903e+00,\n",
              "        1.85170184e+00,  1.57393129e+00,  5.88391949e+00,  6.10304424e+00,\n",
              "        1.77253003e+00,  1.81340411e+00,  7.17001777e-01,  2.08611749e+00,\n",
              "        2.01080257e+00,  1.49671955e+00,  1.02570053e-01,  1.85074161e+00,\n",
              "        4.35900154e+00,  9.60206767e-01,  2.73090207e+00,  6.65300627e-01,\n",
              "        2.12486464e-01,  1.81861348e+00,  3.86631102e+00,  4.41390678e+00,\n",
              "        6.91872692e+00,  8.59058609e-01,  9.22817253e-01,  1.00857965e+00,\n",
              "        1.20027842e+00,  1.63129214e+00,  3.19637918e-01,  3.78918677e-01,\n",
              "        2.41546998e+00,  1.11601746e+00,  8.59940337e-01,  9.18026192e-01,\n",
              "        7.15628712e+00,  9.99024580e-01,  5.50649579e+00,  1.66199385e-01,\n",
              "        2.81821867e+00,  2.16336822e+00,  8.59254171e-01,  1.01668662e+00,\n",
              "        7.22987837e-01,  1.47732309e-02,  1.49542246e-01,  3.42013592e-01,\n",
              "        3.01784537e-01,  6.20767225e-01,  1.07262899e-01,  7.94388889e-01,\n",
              "        3.27071210e+00,  5.52364936e-01,  9.95155398e-01,  1.84510500e+00,\n",
              "        1.29824973e+00,  5.59883917e-01,  5.92849525e+01,  3.44565497e+00,\n",
              "        1.37413936e+00,  5.72184463e-01,  2.17105384e+00,  1.21907964e+00,\n",
              "        6.46643745e-01,  9.63088596e-01,  1.60074144e+00,  1.36761214e+00,\n",
              "        7.04524240e-01,  1.36529419e+00,  4.89689051e-01,  5.03079758e-01,\n",
              "        1.74885462e-01,  2.50951512e+00,  2.45433187e-01,  2.29938048e+00,\n",
              "        5.57359738e-01,  2.30218079e+00,  7.05406355e-01,  1.28245795e+01,\n",
              "        7.96881329e-01,  1.05496704e+00,  5.77654861e-01,  3.45123618e-01,\n",
              "        1.91641646e+00,  8.65847710e-01,  1.60881016e+00,  1.17239868e+00,\n",
              "        5.60014431e-01,  3.45604019e-01,  7.80266843e-01,  7.02730730e-01,\n",
              "        2.04775268e+01,  4.49289423e-01,  1.12079882e+00,  3.32630538e-01,\n",
              "        2.28392117e+00,  1.12965917e+00,  5.50879436e-01,  1.62134723e+00,\n",
              "        2.85908369e-01,  1.11395042e+00,  1.02337163e+01,  2.39822133e-01,\n",
              "        4.09366688e-01,  8.74497931e-01,  2.28459352e-01,  1.36612020e+00,\n",
              "        5.90368387e+00,  3.60673931e-01,  1.17597711e+00,  1.57955828e+00,\n",
              "        1.35319623e+00,  3.31833251e+00,  1.83919550e+00,  2.13958626e-01,\n",
              "        9.30729872e-01,  4.98012520e-01,  7.88855985e-01,  2.75498893e+00,\n",
              "        2.60613459e+00,  1.59907931e-01,  2.89403938e+00,  8.37037767e-01,\n",
              "        9.12051174e-01,  1.00288264e+00,  3.15563384e-01,  6.48799315e-01,\n",
              "        4.56584097e+00,  1.27679086e+00,  2.12595739e-01,  1.30740749e+00,\n",
              "        1.05332522e+00,  1.83216938e+01,  1.17356022e+00,  4.78242177e-01,\n",
              "        1.00249092e+00,  2.59117047e+00,  1.50039220e+00,  1.01736653e+00,\n",
              "        1.21478892e+00,  2.66970193e-02,  1.39222675e+00,  2.37144938e+00,\n",
              "        7.06177644e-02,  6.27307092e+00,  9.86302415e+00,  3.15975389e+00,\n",
              "        7.43276367e-01,  1.09526825e+00,  6.49022063e-01,  1.03491873e+00,\n",
              "        2.38258478e+00,  2.87933063e-01,  3.46307155e-01,  1.80828866e-02,\n",
              "        9.71759504e-01,  1.51453905e-01,  1.61428316e+00,  1.25486836e+00,\n",
              "        2.93550726e-01,  1.46690112e-01,  8.76405312e-01,  3.60039429e-01,\n",
              "        1.70350253e+00,  1.01930694e+01,  2.94875749e-01,  6.60138798e-01,\n",
              "        2.13175667e+00,  6.30722310e+00,  6.05214108e+01,  4.78694804e-01,\n",
              "        3.11242388e-01,  6.14824569e-01,  9.12640773e-01,  4.67389366e+00,\n",
              "        1.30373057e+00,  6.78462250e-01,  1.04732674e-01,  8.31522243e-01,\n",
              "        9.48679174e-01,  4.88255689e-02,  1.45510706e+00,  4.89132450e+00,\n",
              "        1.35832128e+00,  2.93156243e+00,  3.12210870e+00,  1.92448168e+01,\n",
              "        1.45624968e+00,  2.85298279e-01,  6.34523234e-01,  1.15670439e+00,\n",
              "        5.44817381e-02,  2.76992530e-01,  5.41582900e+00,  9.86303192e-01,\n",
              "        8.62555598e-01,  2.73390165e+00,  7.34409317e-01,  1.48448406e+00,\n",
              "        1.04302877e+00,  1.11855968e+00,  1.17559976e+00,  7.70745402e-01,\n",
              "        4.79021831e-02,  1.18086932e+00,  1.90862414e+00,  1.32165475e+00,\n",
              "        3.26069708e-01,  7.70909874e-01,  4.70184929e-01,  4.79672145e+00,\n",
              "        5.65568301e-01,  9.63210714e-01,  2.63887131e+00,  1.48335458e+00,\n",
              "        2.53564952e-01,  2.44853375e-02,  1.32813965e+01,  8.29331686e-01,\n",
              "        1.80420051e+00,  9.63034889e-01,  1.41271370e+00,  1.09127642e+00,\n",
              "        5.70139308e-01,  1.95738581e+00,  8.24995945e-01,  3.39864319e-01,\n",
              "        2.45938958e+00,  4.37537396e-01,  8.52972724e-01,  1.88667252e-01,\n",
              "        9.29609415e-02,  4.65274213e-01,  1.41791608e+00,  1.25036056e-01,\n",
              "        1.12647912e+00,  5.93509331e-01,  8.62077510e-01,  6.55112687e-01,\n",
              "        7.81357724e-01,  5.20885722e-01,  1.25109649e+00,  7.45582091e-01,\n",
              "        1.47783284e+00,  5.27920733e-01,  1.14197724e+00,  7.13801398e-01,\n",
              "        6.41411219e+00,  5.75249351e-01,  1.86418520e-01,  2.44195360e-01,\n",
              "        9.84576170e-01,  1.32310727e+00,  1.13255558e+01,  9.29235278e-01,\n",
              "        4.49863550e+01,  3.27012761e+00,  8.20496865e-01,  1.14470674e+00,\n",
              "        2.01068547e+00,  6.08016186e-01,  3.29578059e+00,  3.32987653e+00,\n",
              "        6.73113235e-01,  8.14187521e-01,  2.30164422e-01,  7.26376563e-01,\n",
              "        9.97801541e-01,  9.30310826e-01,  2.15040623e-01,  9.20459586e-01,\n",
              "        5.58796972e+00,  1.57235750e+00,  1.99397007e-01,  5.01110463e-02,\n",
              "        1.73836784e+00,  3.22654588e+00,  5.91651424e-01,  2.41569148e+00,\n",
              "        1.25591483e+00,  4.45922564e-01,  6.44799255e-02,  3.57152967e-01,\n",
              "        8.23254105e-01,  4.82767494e-01,  1.32453426e+00,  1.46854738e+00,\n",
              "        5.81432536e+00,  5.08682740e-01,  6.59492589e-01,  1.41886843e-01,\n",
              "        8.94840583e-01,  1.61507078e-01,  9.26521751e-01,  1.28981909e+00,\n",
              "        5.97291946e-01,  6.69814944e+00,  1.27935465e+00,  2.60187018e+00,\n",
              "        1.85553043e+00,  8.47421169e-01,  2.41173495e-02,  1.98313764e+00,\n",
              "        8.00306425e-01,  1.15369317e-01,  6.85720249e-01,  1.51904076e+00,\n",
              "        1.90599593e+00,  2.32628472e-01,  8.26536628e-01,  5.43472595e-01,\n",
              "        8.66016207e-01,  9.46038250e-01,  8.29890227e-01,  8.89138236e-01,\n",
              "        1.15658223e+00,  2.88912314e+01,  6.25834866e-01,  1.05025411e+00,\n",
              "        3.17869468e+00,  2.47195983e+00,  8.14222147e-02,  4.62779214e-01,\n",
              "        1.62527271e+00,  9.98774267e+00,  5.39830666e+00,  3.84408059e-01,\n",
              "        1.44919329e+00,  7.18533415e+00,  1.82467398e+00,  1.18047129e+00,\n",
              "        5.89111256e+00,  1.55589174e-01,  9.95481913e-02,  1.04207505e+00,\n",
              "        3.54207572e+00,  1.28586694e+00,  1.91878510e+00,  1.28575762e+00,\n",
              "        1.20401428e-01,  1.97458864e-01,  3.53751279e-01,  5.12838040e-01,\n",
              "        2.74526950e+00,  1.19416502e+00,  6.76531445e-01,  1.57405004e-01,\n",
              "        2.03980206e-01,  1.61100838e+00,  3.33868654e-01,  3.65927415e-01,\n",
              "        1.89378818e+00,  7.91059349e-01,  4.38877562e-01,  1.66835727e+00,\n",
              "        4.12207486e-01,  2.29190495e+00,  6.31680937e-01,  6.26531491e-01,\n",
              "        5.20741086e+00,  4.24518562e-01,  6.67264930e-01,  5.61791600e-01,\n",
              "        6.96853592e-01,  2.84747028e+00,  1.18763772e+00,  1.17910365e+00,\n",
              "        4.41748311e-01,  9.06551088e-01,  2.05123531e+00,  1.79488081e+00,\n",
              "        7.58782438e-02,  6.31268452e-01,  2.25089946e+00,  2.62798676e+00,\n",
              "        1.14074262e+00,  6.78220561e+00,  9.60982489e-01,  1.17429398e+00,\n",
              "        1.35714157e+00,  6.77467573e-01,  3.27992353e-01,  9.15178249e-01,\n",
              "        1.75466786e-02,  3.52029779e+00,  6.57135372e-01,  1.61045564e+00,\n",
              "        9.91996463e-01,  6.91044048e-01,  4.56214707e-01,  1.40654811e+00,\n",
              "        1.22457291e+00,  7.52504256e-01,  6.27538722e-01,  2.86596804e-01,\n",
              "        1.44067467e+00,  7.81277501e-01,  4.55045243e+00,  3.51924866e-01,\n",
              "        4.17017284e-01,  1.12189911e+00,  3.56611754e+00,  4.44748507e-01,\n",
              "        1.56091577e+00,  3.15062731e-01,  2.52526263e-01,  7.91238687e-01,\n",
              "        2.63664268e+01,  4.53575266e+00,  2.41387760e+00,  3.41721022e-01,\n",
              "        1.38562075e+00,  4.56641138e+00,  7.37301851e-01,  1.76687982e-01,\n",
              "        2.69748577e-01,  2.22825110e+00,  1.63508548e+00,  3.12468860e+00,\n",
              "        8.51890596e-01,  4.13516461e-01,  4.02609901e+00,  3.97254600e-01,\n",
              "        4.28859210e+00,  2.59372806e+00,  1.30699998e+00,  3.72882078e+00,\n",
              "        1.03017965e+00,  4.35042821e+00,  2.86724160e+00,  8.37853439e-02,\n",
              "        2.29505814e-02,  5.41900625e+00,  1.05157045e+01,  2.68251953e+00,\n",
              "        4.65109756e-01,  2.57835700e+00,  7.04373899e-01,  9.77917550e-02,\n",
              "        1.19566922e-01,  1.28875334e+01,  5.87755499e-01,  7.18472298e-01,\n",
              "        1.82775593e+00,  9.40770174e-01,  4.69701034e+01,  2.30346024e+00,\n",
              "        1.75102518e+00,  8.27047332e-02,  1.47268530e+00,  2.82416371e+00,\n",
              "        2.12219031e-01,  6.98543579e-02,  9.90295990e-02,  4.13565742e-01,\n",
              "        1.78023292e-01,  1.06514305e+00,  1.63989153e+00,  1.14131913e+00,\n",
              "        1.02399931e+00,  1.29543602e-01,  6.89384633e-01,  1.51197541e+00,\n",
              "        1.15448433e+00,  9.99679630e-01,  6.12738043e-01,  1.12594664e+00,\n",
              "        2.53056757e+00,  7.39895243e-01,  4.28910469e-01,  1.58302356e+00,\n",
              "        6.17796531e-01,  1.63403126e-01,  7.38141380e-01,  7.26585311e-01,\n",
              "        8.12974342e+00,  9.42489735e+00,  3.37366212e+01,  9.10799072e-01,\n",
              "        1.32364854e+00,  2.90177299e-01,  1.02355273e+00,  4.33904942e+00,\n",
              "        9.18252447e+00,  6.41019573e-01,  4.66356948e-01,  1.76141813e+00,\n",
              "        1.06438220e+00,  1.61358271e+00,  1.46840862e+00,  2.40172733e+00,\n",
              "        6.08063682e-01,  1.18177247e+00,  2.18555664e-01,  7.70256369e-01,\n",
              "        3.56413718e-01,  5.02784081e+01,  2.22733281e+00,  7.23091843e-01,\n",
              "        7.40930877e-01,  8.62649088e-02,  1.28621872e+00,  3.63172134e-01,\n",
              "        1.05375922e+00,  7.92880798e-01,  1.91958678e+00,  5.14849256e-01,\n",
              "        2.89671036e-01,  8.77630016e-01,  6.88651745e-01,  4.78065793e+00,\n",
              "        1.24715942e-01,  1.02171680e+01,  8.98094079e-01,  9.53755911e-01,\n",
              "        1.31482986e+00,  5.08611764e+00,  9.22069626e+00,  1.18545720e+00,\n",
              "        8.27206417e-01,  9.86884449e-01,  5.77121997e-01,  3.06146394e+00,\n",
              "        5.18904671e-01,  2.45410716e-01,  9.90156582e-01,  8.54081538e-01,\n",
              "        2.84657447e+00,  7.28981721e+00,  2.46017742e+00,  1.24108747e+00,\n",
              "        1.90561639e+00,  2.63129219e+00,  8.18248925e-01,  1.49955581e+00,\n",
              "        2.16246494e-01,  9.69281304e-01,  2.32602800e+00,  7.84696794e-01,\n",
              "        7.43836182e-01,  1.22547338e+00,  1.50919898e+00,  2.72783004e-01,\n",
              "        5.79217460e-02,  2.75028299e+00,  1.90788719e-01,  1.31563659e-02,\n",
              "        5.89296828e-01,  2.59974931e+00,  5.11472475e-01,  8.90307594e-01,\n",
              "        1.15483245e-02,  4.57155568e+00,  3.28040478e-01,  2.64407934e+00,\n",
              "        5.34430098e-01,  1.16092154e+00,  8.15428620e-01,  2.77659761e-01,\n",
              "        1.25203179e+00,  6.68471736e-02,  9.38227419e-01,  6.38266175e-01,\n",
              "        8.25090423e-01,  4.08562756e+00,  2.78519582e+00,  9.89999329e-01,\n",
              "        5.29871952e+00,  6.00546941e-01,  3.24463392e-01,  5.00074407e+00,\n",
              "        3.45141297e+00,  2.88938413e+00,  6.00301934e-01,  5.58955412e-01,\n",
              "        1.95061942e+00,  7.17995938e-01,  1.82203022e+00,  4.00695971e-01,\n",
              "        4.94637636e-01,  9.60478374e-01,  2.56169011e+00,  8.57072320e-02,\n",
              "        5.83686118e-01,  1.39773800e+00,  7.33642457e-01,  1.11118559e+00,\n",
              "        2.83654188e-01,  9.00697305e+00,  1.07954995e+00,  6.05196708e-01,\n",
              "        2.29526168e+00,  1.10397001e+00,  8.26181539e-01,  2.59325596e+00,\n",
              "        9.49423918e-01,  1.23776600e+00,  1.10752962e+00,  2.15283863e-01,\n",
              "        1.11338738e+00,  1.35627901e+01,  3.13579081e+00,  8.84819947e-01,\n",
              "        6.04476228e-01,  2.58665025e+00,  1.48396096e+00,  1.43174906e+00,\n",
              "        1.46810177e-01,  3.65605434e+00,  4.85167414e-01,  1.58003988e+00,\n",
              "        1.15242863e+00,  9.80507758e+01,  1.19569101e+00,  6.03731871e-01,\n",
              "        4.72877298e-01,  1.52831644e+00,  5.03673096e-01,  4.20650821e-01,\n",
              "        8.12032369e-01,  2.31918491e+00,  5.59477552e-01,  2.28268131e+00,\n",
              "        1.95435604e+00,  3.54699342e-01,  3.49300022e+00,  1.28058412e-01,\n",
              "        1.79397809e+00,  9.35890955e+00,  3.38157648e-01,  1.70747717e+00,\n",
              "        7.73041666e-01,  7.14360417e-01,  4.29917921e+00,  2.16036661e+00,\n",
              "        1.20847353e+00,  3.75611704e-01,  6.28544147e-01,  3.33860984e-01,\n",
              "        2.75684008e-02,  1.94389906e+00,  5.58315056e-01,  1.52414148e-01,\n",
              "        6.60101315e-01,  1.92660677e+00,  1.52549366e+00,  2.87677043e+00,\n",
              "        2.03741411e+00,  9.80394761e-01,  1.35497193e+00,  1.33311587e+03,\n",
              "        1.38629560e+00,  4.81906334e+00,  4.24377938e-01,  1.20973223e+00,\n",
              "        3.19823689e+00,  6.28350713e-01,  2.22150744e+00,  4.13329425e+00,\n",
              "        5.62139180e-01,  1.73023179e-01,  4.00100431e+00,  3.94132954e-01,\n",
              "        1.15532755e+01,  1.06820999e+00,  1.46527526e+00,  7.04841846e-01,\n",
              "        5.06691210e-01,  1.15976125e+01,  4.15467928e+01,  2.96578775e+00,\n",
              "        1.87857402e+00,  4.00138454e-01,  7.32417826e-01,  4.23706978e-01,\n",
              "        4.75624453e-01,  1.07891460e+00,  8.50555100e-01,  6.61236213e-01,\n",
              "        1.10240844e+00,  2.06575995e+00,  1.40221814e+00,  1.86580430e+00,\n",
              "        8.93385287e-01,  1.96909106e-01,  2.48321767e-01,  1.21259084e-01,\n",
              "        2.34197652e+00,  1.13194682e+00,  1.06421905e+00,  3.25229178e+00,\n",
              "        4.43109050e-01,  5.48885172e-01,  1.92827771e+00,  1.00751274e+00,\n",
              "        1.34840720e-01,  7.48689644e-01,  1.84065008e+00,  6.45911245e+00,\n",
              "        4.63190989e-03,  2.17052639e-01,  4.28688160e+00,  3.98738759e-01,\n",
              "        1.59419948e+00,  2.84683014e-02,  1.30191844e+00,  3.56136585e-02,\n",
              "        6.60834522e-01,  1.23961650e+01,  1.71671613e+00,  1.50890950e+00,\n",
              "        8.52034749e-01,  3.24231407e-01,  1.80632009e-01,  1.51005146e+00,\n",
              "        5.20957860e-01,  3.93358240e-01,  1.72765445e+00,  3.97620926e+00,\n",
              "        7.33542266e+00,  5.85191690e-01,  1.90763695e-01,  5.37148331e+00,\n",
              "        1.75155290e+00,  1.19962709e-02,  6.83854186e-01,  8.74809599e-01,\n",
              "        5.80736929e-02,  2.99099734e-01,  7.53902884e-01,  6.37631482e-01,\n",
              "        2.22352312e+00,  1.36878283e+00,  2.71824722e+00,  3.28065592e-01,\n",
              "        1.47113859e+00,  4.71711474e-01,  1.77739785e-02,  7.13532717e+01,\n",
              "        7.92841666e-02,  1.19424752e+00,  7.88886018e-01,  5.06801731e-01,\n",
              "        7.85269155e-01,  2.92855477e+00,  4.95693360e-02,  3.71822086e-01,\n",
              "        4.38162741e-01,  7.18697624e-01,  6.11219282e-01,  3.06828529e+00,\n",
              "        7.95978703e+00,  9.16063029e-01,  2.89375325e-01,  1.21490103e+00,\n",
              "        6.50739614e+00,  4.49269874e+02,  1.47142214e+00,  2.98212941e+00,\n",
              "        2.85176084e-01,  1.05520109e+00,  1.77790191e+00,  2.38907963e+00,\n",
              "        1.80762379e+00,  6.60975378e-01,  6.49673328e-01,  1.60601016e+01,\n",
              "        8.03854474e-01,  2.33587561e-01,  1.42388407e+00,  5.32546254e-01,\n",
              "        5.10234654e+00,  3.45622264e+00,  6.11007603e-01,  3.28857796e-01,\n",
              "        6.09936937e-01,  5.47793712e-01,  3.18634738e-01,  1.16852519e+00,\n",
              "        1.83611122e-01,  8.91800079e-01,  6.43345027e-01,  1.53542848e+00,\n",
              "        4.44942682e+00,  3.17209446e-01,  2.57004668e-01,  2.04583555e+00,\n",
              "        9.61240553e-01,  4.84417573e-01,  5.28528824e+00,  6.92848542e-01,\n",
              "        3.78428540e+00,  4.91268750e-01,  2.30932154e+01,  9.93750588e-01,\n",
              "        9.35554896e-02,  1.74405406e+00,  5.03251033e-01,  1.24040718e+00,\n",
              "        5.36337466e-01,  1.02667575e+00,  1.69559317e-01,  2.25651575e-01,\n",
              "        2.86652437e-01,  1.66286102e+01,  4.26887562e-01,  1.89053015e+00,\n",
              "        5.22495093e+00,  4.49192253e-01,  6.46037228e-01,  4.27574682e-01,\n",
              "        2.56366067e+01,  1.02786901e+00,  1.31820855e+00,  9.50090112e-02,\n",
              "        1.01149685e+00,  6.16163607e+00,  8.07276005e-01,  1.70334119e+00,\n",
              "        3.88158700e+00,  5.53507216e-01,  4.56623337e+00,  2.82515987e-01,\n",
              "        5.56805576e-01,  1.30470027e+00,  9.02983751e+00,  8.31235029e-01,\n",
              "        4.57221375e-01,  4.53329736e+00,  2.09987073e+00,  2.43544364e+00,\n",
              "        1.42332671e+00,  3.74741036e-01,  1.16144843e+00,  2.47133930e+00,\n",
              "        2.18322540e+01,  4.21493509e+00,  5.24497464e+00,  9.64620353e-01,\n",
              "        1.38038652e+00,  9.97889473e-01,  8.18311856e-02,  3.94130966e-01,\n",
              "        1.47144875e-01,  4.03982095e-01,  1.09943172e+00,  1.61827969e+00,\n",
              "        7.53373222e-02,  1.68863569e-02,  2.13105875e+00,  2.02284902e+00,\n",
              "        5.06011983e+00,  3.73661183e+00,  3.01098754e+00,  3.95189726e-01])"
            ]
          },
          "metadata": {},
          "execution_count": 18
        }
      ],
      "source": [
        "A = A.tocsr() # переводим в формат sparse матрицы A.to_array() - вернуть обратно в формат обычной матрицы\n",
        "b = np.random.rand(1000)\n",
        "x = sp.linalg.spsolve(A, b) #решаем уравенение\n",
        "x # получаем такое же решение, как и в случае обычных матриц, но храним меньше данных"
      ]
    },
    {
      "cell_type": "markdown",
      "source": [
        "### Интегрирование с scipy"
      ],
      "metadata": {
        "id": "zsapggdLBlHB"
      }
    },
    {
      "cell_type": "code",
      "source": [
        "from scipy.integrate import quad, dblquad, tplquad"
      ],
      "metadata": {
        "id": "MqIhQDh-BlZg"
      },
      "execution_count": null,
      "outputs": []
    },
    {
      "cell_type": "markdown",
      "source": [
        "называется численным интегрированием или квадратурой. В SciPy есть ряд функций для различных видов квадратуры — например, quad, dblquad и tplquad для одномерных, двойных и тройных интегралов соответственно.\n",
        "\n",
        "$\\displaystyle \\int_a^b f(x) dx$"
      ],
      "metadata": {
        "id": "Fq0512D7DSks"
      }
    },
    {
      "cell_type": "code",
      "source": [
        "# define a simple function for the integrand\n",
        "def f(x):\n",
        "    return 1 / x"
      ],
      "metadata": {
        "id": "P815vhWHB1X9"
      },
      "execution_count": null,
      "outputs": []
    },
    {
      "cell_type": "code",
      "source": [
        "%%time\n",
        "x_lower = -1 # the lower limit of x\n",
        "x_upper = 1 # the upper limit of x\n",
        "\n",
        "val, abserr = quad(f, x_lower, x_upper)\n",
        "\n",
        "print(\"integral value =\", val, \", absolute error =\", abserr)"
      ],
      "metadata": {
        "colab": {
          "base_uri": "https://localhost:8080/"
        },
        "id": "9BzpnwcrB2LJ",
        "outputId": "0bf09f7a-2f68-4d92-dce9-15d373667b79"
      },
      "execution_count": null,
      "outputs": [
        {
          "output_type": "stream",
          "name": "stdout",
          "text": [
            "integral value = 0.6666666666666666 , absolute error = 1.037040821854847e-14\n",
            "CPU times: user 537 µs, sys: 0 ns, total: 537 µs\n",
            "Wall time: 545 µs\n"
          ]
        }
      ]
    },
    {
      "cell_type": "markdown",
      "source": [
        "Для функций с двумя переменными также можно взять интеграл с помощью scipy"
      ],
      "metadata": {
        "id": "O512v12aDiSo"
      }
    },
    {
      "cell_type": "code",
      "source": [
        "%%time\n",
        "def integrand(x, y):\n",
        "    return np.exp(-x**2-y**2)\n",
        "\n",
        "x_lower = 0\n",
        "x_upper = 10\n",
        "y_lower = 0\n",
        "y_upper = 10\n",
        "\n",
        "val, abserr = dblquad(integrand, x_lower, x_upper, lambda x : y_lower, lambda x: y_upper)\n",
        "\n",
        "print(val, abserr)"
      ],
      "metadata": {
        "id": "FQ5vUo72DhwM",
        "colab": {
          "base_uri": "https://localhost:8080/"
        },
        "outputId": "3197b28b-eb22-4384-cba9-1fe8f16a2108"
      },
      "execution_count": null,
      "outputs": [
        {
          "output_type": "stream",
          "name": "stdout",
          "text": [
            "0.7853981633974476 1.3753098510194181e-08\n",
            "CPU times: user 8.66 ms, sys: 0 ns, total: 8.66 ms\n",
            "Wall time: 8.52 ms\n"
          ]
        }
      ]
    },
    {
      "cell_type": "markdown",
      "source": [
        "У scipy.integrate.quad много доппараметров, которые реально помогают, когда интеграл \"тяжёлый\":\n",
        "\n",
        "epsabs и epsrel — абсолютная и относительная точность.\n",
        "\n",
        "limit — максимальное число разбиений (важно для сложных или сильно осциллирующих интегралов).\n",
        "\n",
        "points — можно подсказать алгоритму «особые точки» разбиения, чтобы там быть осторожнее.\n",
        "\n",
        "weight, wvar — специальные веса для осцилляций ('cos', 'sin', 'alg'), т.е. метод Филона для ∫f(x)cos(wx).\n",
        "\n",
        "full_output=True — получить детальный отчёт от подкапотного QUADPACK."
      ],
      "metadata": {
        "id": "J4Am7sfsFCJN"
      }
    },
    {
      "cell_type": "markdown",
      "source": [
        "$$\n",
        "I = \\int_0^{\\infty} \\frac{\\sin(50x)}{x}\\, e^{-x}\\, dx\n",
        "$$\n"
      ],
      "metadata": {
        "id": "haefH3pAFV5H"
      }
    },
    {
      "cell_type": "markdown",
      "source": [
        "Без весовой опции quad будет «мучиться», но с weight='sin' и параметром частоты wvar=50 всё быстро:"
      ],
      "metadata": {
        "id": "wzEsE3I8FMNM"
      }
    },
    {
      "cell_type": "code",
      "source": [
        "# define a simple function for the integrand\n",
        "def f(x):\n",
        "    return np.sin(50*x)/x * np.exp(-x)"
      ],
      "metadata": {
        "id": "2C-vqFXdFqEr"
      },
      "execution_count": null,
      "outputs": []
    },
    {
      "cell_type": "code",
      "source": [
        "%%time\n",
        "x_lower = 0 # the lower limit of x\n",
        "x_upper = np.inf # the upper limit of x\n",
        "\n",
        "val, abserr = quad(f, x_lower, x_upper, wvar=50)\n",
        "\n",
        "print(\"integral value =\", val, \", absolute error =\", abserr)"
      ],
      "metadata": {
        "colab": {
          "base_uri": "https://localhost:8080/"
        },
        "id": "_meAbUPwZBTI",
        "outputId": "e2fafbfa-84c5-4b19-a0bf-cd1f7cb43c52"
      },
      "execution_count": null,
      "outputs": [
        {
          "output_type": "stream",
          "name": "stdout",
          "text": [
            "integral value = 1.55080409883832 , absolute error = 0.0001150111305460233\n",
            "CPU times: user 10.7 ms, sys: 0 ns, total: 10.7 ms\n",
            "Wall time: 28.3 ms\n"
          ]
        },
        {
          "output_type": "stream",
          "name": "stderr",
          "text": [
            "<timed exec>:4: IntegrationWarning: The maximum number of subdivisions (50) has been achieved.\n",
            "  If increasing the limit yields no improvement it is advised to analyze \n",
            "  the integrand in order to determine the difficulties.  If the position of a \n",
            "  local difficulty can be determined (singularity, discontinuity) one will \n",
            "  probably gain from splitting up the interval and calling the integrator \n",
            "  on the subranges.  Perhaps a special-purpose integrator should be used.\n"
          ]
        }
      ]
    },
    {
      "cell_type": "code",
      "source": [],
      "metadata": {
        "id": "oML2IuUIZFi8"
      },
      "execution_count": null,
      "outputs": []
    }
  ],
  "metadata": {
    "colab": {
      "provenance": []
    },
    "kernelspec": {
      "display_name": "Python 3",
      "name": "python3"
    },
    "language_info": {
      "name": "python"
    }
  },
  "nbformat": 4,
  "nbformat_minor": 0
}